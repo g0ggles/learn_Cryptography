{
 "cells": [
  {
   "cell_type": "markdown",
   "metadata": {},
   "source": [
    "# Modern Cryptography\n",
    "\n",
    "Generally speaking there are two *kinds* of encryption: symmetric and asymmetric.\n",
    "\n",
    "In symmetric encryption, the parties involved share the ***same*** key.\n",
    "\n",
    "In asymmetric encryption, the parties use ***different*** keys, that are mathematically ***related*** to each other.\n",
    "\n",
    "<img src=\"img/sym_vs_asym.png\" width=\"750\">\n",
    "\n",
    "## Symmetric Encryption\n",
    "\n",
    "In the following, we look at symmetric encryption algorithms. In symmetric crypto, we use the same key for encryption and decryption. **Therefore, the two parties need to establish a secret key between them.** Symmetric encryption can be up to 1000 times faster than asymmetric encryption. Given the support of some crypto algorithm in the CPU and at hardware level, even faster.\n",
    "\n",
    "### Advanced Encryption Algorithm (AES)\n",
    "\n",
    "AES is based on Rijndael encryption algorithm, designed by Joan Daemen and Vincent Rijmen. It was one of the algorithms submitted to U.S. National Institute of Standards and Technology (NIST) to replace DES and 3DES. It was published in 1998 and accepted and standardized in 2001.\n",
    "\n",
    " * AES supports key sizes of 128/192/256 bits\n",
    " * Block size: 128 bit\n",
    " * It's iterative rather than Feistel cipher\n",
    " * Treats data in 4 groups of 4 bytes\n",
    " * Operates on an entire block in every round\n",
    " * Resistant against known attacks\n",
    " * Speed and code compactness on many CPUs\n",
    " * Rijndael block and key size vary between 128, 192, 256\n",
    " * However, in AES block size in 128\n",
    " * Number of rounds a function of key size\n",
    "  * 128 bits     10 rounds\n",
    "  * 192 bits     12 rounds\n",
    "  * 256 bits     14 rounds\n",
    "\n",
    " * Today most implementations use the CPU support (Intel AES-NI)\n",
    "\n",
    "### Block cipher mode of operation\n",
    "\n",
    "To encrypt messages of arbitrary size with block ciphers, we use the following algorithms, called the modes of operation. They define how to encrypt each block of the plaintext to produce the corresponding cipher text block. Some of these are completely insecure (ECB) and should not be used.\n",
    "\n",
    " * Electronic Codebook (ECB)\n",
    " * Cipher Block Chaining (CBC)\n",
    " * Counter (CTR)\n",
    " \n",
    " \n",
    "### Electronic Codebook (ECB)\n",
    "\n",
    "<img src=\"img/ECB_enc.png\">\n",
    "<img src=\"img/ECB_dec.png\">\n",
    "\n",
    "\n",
    "\n",
    "### Cipher Block Chaining (CBC)\n",
    "\n",
    "<img src=\"img/CBC_enc.png\">\n",
    "<img src=\"img/CBC_dec.png\">\n",
    "\n",
    "\n",
    "\n",
    "### Counter (CTR)\n",
    "\n",
    "<img src=\"img/CTR_enc.png\">\n",
    "<img src=\"img/CTR_dec.png\">\n",
    "\n",
    "\n",
    "## SHA Family\n",
    "\n",
    "Secure Hash Algorithm (SHA) family, is a series of hashing algorithms.\n",
    "\n",
    "    Ranging from SHA-0 to SHA-3. \n",
    "    SHA-0 should never be used. \n",
    "    It's advised to move from SHA-1 to SHA-2. \n",
    "    SHA-3 is the most recent version, published in 2015.\n",
    "\n",
    "\n",
    "    SHA-1: Digest size (160), Block size (512)\n",
    "    SHA-2: Digest size (224, 256, 384, or 512), Block size (512, 1024)\n",
    "    SHA-3: Digest size (224, 256, 384, 512), Block size (1600)\n"
   ]
  },
  {
   "cell_type": "code",
   "execution_count": 127,
   "metadata": {},
   "outputs": [
    {
     "name": "stdout",
     "output_type": "stream",
     "text": [
      "msg_digest: 32 256\n",
      "base64 encoding: b'Ac3zIwNL0+Tm2TwmwUiZXIKzQ5Wy+ON7DdisgBdw8Ys='\n",
      "\n",
      "**********************************************************************\n",
      "msg_digest: 32 256\n",
      "base64 encoding: b'e0X8i9hmsRwIC11vopL7wF+2M5sMcfkq5KNRAaPlSdA='\n",
      "\n",
      "**********************************************************************\n",
      "msg_digest: 32 256\n",
      "base64 encoding: b'e0X8i9hmsRwIC11vopL7wF+2M5sMcfkq5KNRAaPlSdA='\n"
     ]
    }
   ],
   "source": [
    "from cryptography.hazmat.backends import default_backend\n",
    "from cryptography.hazmat.primitives import hashes\n",
    "import base64 # to produce human readable encoding of the bytes\n",
    "\n",
    "digest = hashes.Hash(hashes.SHA256(), backend=default_backend())\n",
    "digest.update(b\"Cryptography Class\")\n",
    "digest.update(b\"2019\")\n",
    "msg_digest = digest.finalize()\n",
    "# Notice the output size of the digest\n",
    "print (\"msg_digest:\", len(msg_digest), len(msg_digest) * 8)\n",
    "print (\"base64 encoding:\", base64.b64encode(msg_digest))\n",
    "\n",
    "print()\n",
    "print('*'*70)\n",
    "\n",
    "digest = hashes.Hash(hashes.SHA256(), backend=default_backend())\n",
    "digest.update(b\"Cryptography Class 2019\")\n",
    "msg_digest = digest.finalize()\n",
    "# Notice the output size of the digest\n",
    "print (\"msg_digest:\", len(msg_digest), len(msg_digest) * 8)\n",
    "print (\"base64 encoding:\", base64.b64encode(msg_digest))\n",
    "\n",
    "print()\n",
    "print('*'*70)\n",
    "\n",
    "digest = hashes.Hash(hashes.SHA256(), backend=default_backend())\n",
    "digest.update(b\"Cryptography Class 2019\")\n",
    "msg_digest = digest.finalize()\n",
    "# Notice the output size of the digest\n",
    "print (\"msg_digest:\", len(msg_digest), len(msg_digest) * 8)\n",
    "print (\"base64 encoding:\", base64.b64encode(msg_digest))"
   ]
  },
  {
   "cell_type": "code",
   "execution_count": 128,
   "metadata": {},
   "outputs": [
    {
     "name": "stdout",
     "output_type": "stream",
     "text": [
      "sha1 20 160 \n",
      " b'33aBOypIgAiFptpOz7tyEvg6Ock=' \n",
      "\n",
      "sha224 28 224 \n",
      " b'xYr2ZdcSZACj2j52Lg/YlS5vSvJImM5zcI4Txg==' \n",
      "\n",
      "sha256 32 256 \n",
      " b'e0X8i9hmsRwIC11vopL7wF+2M5sMcfkq5KNRAaPlSdA=' \n",
      "\n",
      "sha384 48 384 \n",
      " b'ayosYcv2ijTBVNlSKg4jchpXYzrzRA9036wwGaNBiEtinvqYt0KxyY3pzChv9nUs' \n",
      "\n",
      "sha512 64 512 \n",
      " b'qdMZZ/v008yB+PqPBkFki04UJQjL8S1PIeiCDxU9FbFsxFpFqjTmg9Cst0OXn2Dzwp9x4TChQfWB6AfxmZA81w==' \n",
      "\n"
     ]
    }
   ],
   "source": [
    "from cryptography.hazmat.backends import default_backend\n",
    "from cryptography.hazmat.primitives import hashes\n",
    "import base64 # to produce human readable encoding of the binary bytes\n",
    "\n",
    "for _hash in [hashes.SHA1, hashes.SHA224, hashes.SHA256, hashes.SHA384, hashes.SHA512]:\n",
    "    digest = hashes.Hash(_hash(), backend=default_backend())\n",
    "    digest.update(b\"Cryptography Class 2019\")\n",
    "    # digest.update(b\"2019\")\n",
    "    msg_digest = digest.finalize()\n",
    "    # Notice the output size of the digest\n",
    "    print(_hash.name, len(msg_digest), len(msg_digest) * 8,'\\n', base64.b64encode(msg_digest), '\\n')"
   ]
  },
  {
   "cell_type": "code",
   "execution_count": 129,
   "metadata": {},
   "outputs": [],
   "source": [
    "import os\n",
    "from cryptography.hazmat.primitives.ciphers import Cipher, algorithms, modes\n",
    "from cryptography.hazmat.backends import default_backend\n",
    "key = os.urandom(16) # in bytes, 128 bits\n",
    "iv = os.urandom(16)"
   ]
  },
  {
   "cell_type": "code",
   "execution_count": 130,
   "metadata": {},
   "outputs": [],
   "source": [
    "# ECB Mode, we only need a key\n",
    "### *** DO NOT USE ECB. IT IS INSECURE *** ###\n",
    "\n",
    "cipher = Cipher(algorithms.AES(key), modes.ECB(), backend=default_backend())\n",
    "encryptor = cipher.encryptor()\n",
    "# note that we don't need padding here, since len(\"Cryptography2019\") = 16\n",
    "cipher_text = encryptor.update(b\"Cryptography2019\") + encryptor.finalize()"
   ]
  },
  {
   "cell_type": "code",
   "execution_count": 131,
   "metadata": {},
   "outputs": [
    {
     "data": {
      "text/plain": [
       "b'+\\x9a\\xc4\\xd7\\xa7\\xff)\\xcf\\xf0\\xf7\\xd1\\x18\\xc2\\x97\\xa0\\x86'"
      ]
     },
     "execution_count": 131,
     "metadata": {},
     "output_type": "execute_result"
    }
   ],
   "source": [
    "cipher_text"
   ]
  },
  {
   "cell_type": "code",
   "execution_count": 132,
   "metadata": {},
   "outputs": [
    {
     "name": "stdout",
     "output_type": "stream",
     "text": [
      "16\n"
     ]
    }
   ],
   "source": [
    "print (len(cipher_text))"
   ]
  },
  {
   "cell_type": "code",
   "execution_count": 133,
   "metadata": {},
   "outputs": [
    {
     "data": {
      "text/plain": [
       "b'Cryptography2019'"
      ]
     },
     "execution_count": 133,
     "metadata": {},
     "output_type": "execute_result"
    }
   ],
   "source": [
    "decryptor = cipher.decryptor()\n",
    "decryptor.update(cipher_text) + decryptor.finalize()"
   ]
  },
  {
   "cell_type": "code",
   "execution_count": 134,
   "metadata": {},
   "outputs": [],
   "source": [
    "# CBC Mode, we also need an IV\n",
    "cipher = Cipher(algorithms.AES(key), modes.CBC(iv), backend=default_backend())\n",
    "encryptor = cipher.encryptor()\n",
    "# note that we don't need padding here, since len(\"Cryptography2019\") = 16\n",
    "cipher_text = encryptor.update(b\"Cryptography2019\") + encryptor.finalize()"
   ]
  },
  {
   "cell_type": "code",
   "execution_count": 135,
   "metadata": {},
   "outputs": [
    {
     "data": {
      "text/plain": [
       "b'a\\x06\\x1a\\xec3p\\x13~\\xffq\\x0bv\\x1f\\x94\\xc8\\xf0'"
      ]
     },
     "execution_count": 135,
     "metadata": {},
     "output_type": "execute_result"
    }
   ],
   "source": [
    "cipher_text"
   ]
  },
  {
   "cell_type": "code",
   "execution_count": 136,
   "metadata": {},
   "outputs": [
    {
     "data": {
      "text/plain": [
       "b'Cryptography2019'"
      ]
     },
     "execution_count": 136,
     "metadata": {},
     "output_type": "execute_result"
    }
   ],
   "source": [
    "decryptor = cipher.decryptor()\n",
    "decryptor.update(cipher_text) + decryptor.finalize()"
   ]
  },
  {
   "cell_type": "code",
   "execution_count": 137,
   "metadata": {},
   "outputs": [],
   "source": [
    "# CTR Mode, we don't need padding in CTR mode. In transforms a block cipher into a stream cipher\n",
    "# we only need to introduce the nonce\n",
    "cipher = Cipher(algorithms.AES(key), modes.CTR(os.urandom(16)), backend=default_backend())\n",
    "encryptor = cipher.encryptor()\n",
    "# len(b\"Cryptography Class 2019\") = 23, however no padding is needed.\n",
    "cipher_text = encryptor.update(b\"Cryptography Class 2019\") + encryptor.finalize()"
   ]
  },
  {
   "cell_type": "code",
   "execution_count": 138,
   "metadata": {},
   "outputs": [
    {
     "data": {
      "text/plain": [
       "b'\\xfc\\xcdn\\x9d[\\x0e\\xe0\\x19\\xb5\\x90\\x96\\x855B\\x1b\\xc4\\xdd\\xfb\\xaf\\xc9\\xa4\\x17e'"
      ]
     },
     "execution_count": 138,
     "metadata": {},
     "output_type": "execute_result"
    }
   ],
   "source": [
    "cipher_text"
   ]
  },
  {
   "cell_type": "markdown",
   "metadata": {},
   "source": [
    "## *<font color=\" #6495ED\">Exercise</font>*\n",
    "\n",
    " - Encrypt the file following text using the ECB, and CBC or CTR mode and compare the results."
   ]
  },
  {
   "cell_type": "code",
   "execution_count": 139,
   "metadata": {},
   "outputs": [],
   "source": [
    "plain_text = b\"Cryptography2019\" * 128"
   ]
  },
  {
   "cell_type": "code",
   "execution_count": 140,
   "metadata": {},
   "outputs": [
    {
     "data": {
      "text/plain": [
       "b'Cryptography2019Cryptography2019Cryptography2019Cryptography2019Cryptography2019Cryptography2019Cryptography2019Cryptography2019Cryptography2019Cryptography2019Cryptography2019Cryptography2019Cryptography2019Cryptography2019Cryptography2019Cryptography2019Cryptography2019Cryptography2019Cryptography2019Cryptography2019Cryptography2019Cryptography2019Cryptography2019Cryptography2019Cryptography2019Cryptography2019Cryptography2019Cryptography2019Cryptography2019Cryptography2019Cryptography2019Cryptography2019Cryptography2019Cryptography2019Cryptography2019Cryptography2019Cryptography2019Cryptography2019Cryptography2019Cryptography2019Cryptography2019Cryptography2019Cryptography2019Cryptography2019Cryptography2019Cryptography2019Cryptography2019Cryptography2019Cryptography2019Cryptography2019Cryptography2019Cryptography2019Cryptography2019Cryptography2019Cryptography2019Cryptography2019Cryptography2019Cryptography2019Cryptography2019Cryptography2019Cryptography2019Cryptography2019Cryptography2019Cryptography2019Cryptography2019Cryptography2019Cryptography2019Cryptography2019Cryptography2019Cryptography2019Cryptography2019Cryptography2019Cryptography2019Cryptography2019Cryptography2019Cryptography2019Cryptography2019Cryptography2019Cryptography2019Cryptography2019Cryptography2019Cryptography2019Cryptography2019Cryptography2019Cryptography2019Cryptography2019Cryptography2019Cryptography2019Cryptography2019Cryptography2019Cryptography2019Cryptography2019Cryptography2019Cryptography2019Cryptography2019Cryptography2019Cryptography2019Cryptography2019Cryptography2019Cryptography2019Cryptography2019Cryptography2019Cryptography2019Cryptography2019Cryptography2019Cryptography2019Cryptography2019Cryptography2019Cryptography2019Cryptography2019Cryptography2019Cryptography2019Cryptography2019Cryptography2019Cryptography2019Cryptography2019Cryptography2019Cryptography2019Cryptography2019Cryptography2019Cryptography2019Cryptography2019Cryptography2019Cryptography2019Cryptography2019Cryptography2019Cryptography2019Cryptography2019'"
      ]
     },
     "execution_count": 140,
     "metadata": {},
     "output_type": "execute_result"
    }
   ],
   "source": [
    "plain_text"
   ]
  },
  {
   "cell_type": "code",
   "execution_count": 141,
   "metadata": {},
   "outputs": [],
   "source": [
    "def print_text(text, b64=False):\n",
    "    for i in range(0, 128, 16):\n",
    "        if b64:\n",
    "            pt = base64.b64encode(text[i:i+16])\n",
    "        else:\n",
    "            pt = text[i:i+16]\n",
    "        print(pt)"
   ]
  },
  {
   "cell_type": "code",
   "execution_count": 142,
   "metadata": {},
   "outputs": [],
   "source": [
    "import os\n",
    "from cryptography.hazmat.backends import default_backend\n",
    "from cryptography.hazmat.primitives.ciphers import Cipher, algorithms, modes\n",
    "import base64 # to produce human readable encoding of the bytes\n",
    "key = os.urandom(16) # in bytes, 128 bits\n",
    "\n",
    "cipher = Cipher(algorithms.AES(key), modes.ECB(), backend=default_backend())\n",
    "encryptor = cipher.encryptor()\n",
    "ecb_ct = encryptor.update(plain_text) + encryptor.finalize()"
   ]
  },
  {
   "cell_type": "code",
   "execution_count": 143,
   "metadata": {},
   "outputs": [
    {
     "name": "stdout",
     "output_type": "stream",
     "text": [
      "b'3\\xb7\\xd9S]h\\xd7\\xfd\\x1er\\x186&Y@_'\n",
      "b'3\\xb7\\xd9S]h\\xd7\\xfd\\x1er\\x186&Y@_'\n",
      "b'3\\xb7\\xd9S]h\\xd7\\xfd\\x1er\\x186&Y@_'\n",
      "b'3\\xb7\\xd9S]h\\xd7\\xfd\\x1er\\x186&Y@_'\n",
      "b'3\\xb7\\xd9S]h\\xd7\\xfd\\x1er\\x186&Y@_'\n",
      "b'3\\xb7\\xd9S]h\\xd7\\xfd\\x1er\\x186&Y@_'\n",
      "b'3\\xb7\\xd9S]h\\xd7\\xfd\\x1er\\x186&Y@_'\n",
      "b'3\\xb7\\xd9S]h\\xd7\\xfd\\x1er\\x186&Y@_'\n"
     ]
    }
   ],
   "source": [
    "print_text(ecb_ct)"
   ]
  },
  {
   "cell_type": "code",
   "execution_count": 144,
   "metadata": {},
   "outputs": [],
   "source": [
    "cipher = Cipher(algorithms.AES(key), modes.CBC(iv), backend=default_backend())\n",
    "encryptor = cipher.encryptor()\n",
    "cbc_ct = encryptor.update(plain_text) + encryptor.finalize()"
   ]
  },
  {
   "cell_type": "code",
   "execution_count": 145,
   "metadata": {},
   "outputs": [
    {
     "name": "stdout",
     "output_type": "stream",
     "text": [
      "b\"3\\xbb\\x8b\\xca\\xf1F\\x83\\xfd'e\\x08\\xab\\xd8\\xfb#\\xbc\"\n",
      "b'\\xe9\\x98Mj\\xbe\\xd6\\xf6\\xf5\\x84=\\xdc\\xdbTjj\\x95'\n",
      "b'i\\x8fJ\\x82\\x05<S\\xa7Y~\\xb2\\x9fJ\\xfc\\x08\\x1d'\n",
      "b'\\xecm\\x7f\\x08\\xa8]\\xc7\\xc3q\\x7f\\x05\\xd7\\xd0s\\xd4z'\n",
      "b'\\x82\\xe1\\xef\\x814\\xa2\\xffq\\xf0W\\xdb\\xe4\\x05}\\xc65'\n",
      "b'\\x14\\x19\\r\\xb4\\xa5\"\\xd6\\x82\\\\\\xfe\\xd5\\xdc\\x08<\\xb1P'\n",
      "b'\\x8bi,\\xc12\\x08\\x08\\x15\\xcb\\t\\x0b\\xd1\\xe3\\xfa\\xe7e'\n",
      "b'\"\\x15\\xb4\\x95+H\\x02\\x10V6\\xcc\\x19@\\xe7\\xe6\\xd0'\n"
     ]
    }
   ],
   "source": [
    "print_text(cbc_ct)"
   ]
  },
  {
   "cell_type": "code",
   "execution_count": 146,
   "metadata": {},
   "outputs": [],
   "source": [
    "cipher = Cipher(algorithms.AES(key), modes.CBC(os.urandom(16)), backend=default_backend())\n",
    "encryptor = cipher.encryptor()\n",
    "ctr_ct = encryptor.update(plain_text) + encryptor.finalize()"
   ]
  },
  {
   "cell_type": "code",
   "execution_count": 147,
   "metadata": {},
   "outputs": [
    {
     "name": "stdout",
     "output_type": "stream",
     "text": [
      "b'\\xce\\xf3_X>\\xd1 ,d\\xfc\\xafu\\n\\xd5\\xf3/'\n",
      "b')-7\\xc3j\\xf8\\xbd7\\x90\\x08\\x9f\\xc5\\xaa\\x81\\xd6\\xa5'\n",
      "b'\\x86X\\\\\\xa1\\xd6\\x0e]\\xea\\x12NnN9\\xf5\\xfaz'\n",
      "b\":\\x1a\\x14\\x7f^\\xfb\\x19y\\x97\\xe3a\\x11^\\x19'\\xbc\"\n",
      "b'\\x8f}2.{)\\x1d\\xfe\\xb6\\xf3\\xcbNx\\xc1@5'\n",
      "b'\\x90\\xcaARx\\xf4\\xa3[\\xf2\\xa5\\xae\\x81\\xc3\\x1a\\x19d'\n",
      "b'\\x85\\x00\\x94\\xe2\\xee\\x92g_`\\x8d\\xd0\\xc9Q\\xd4,|'\n",
      "b'\\x83\\xe9W\\xd0Z=J/h\\x03\\xf2\\xfb\\x08\\xbd\\xd5\\xea'\n"
     ]
    }
   ],
   "source": [
    "print_text(ctr_ct)"
   ]
  },
  {
   "cell_type": "code",
   "execution_count": 148,
   "metadata": {},
   "outputs": [
    {
     "data": {
      "text/plain": [
       "0"
      ]
     },
     "execution_count": 148,
     "metadata": {},
     "output_type": "execute_result"
    }
   ],
   "source": [
    "import PIL\n",
    "\n",
    "with open('img/tux.png', 'rb') as f:\n",
    "    clear = f.read()\n",
    "    \n",
    "len(clear)\n",
    "len(clear)%16\n",
    "clear_trimmed = clear[64:-2]\n",
    "len(clear_trimmed)%16"
   ]
  },
  {
   "cell_type": "code",
   "execution_count": 149,
   "metadata": {},
   "outputs": [],
   "source": [
    "cipher = Cipher(algorithms.AES(key), modes.ECB(), backend=default_backend())\n",
    "encryptor = cipher.encryptor()\n",
    "ecb_ct = encryptor.update(clear_trimmed) + encryptor.finalize()"
   ]
  },
  {
   "cell_type": "code",
   "execution_count": 150,
   "metadata": {},
   "outputs": [],
   "source": [
    "with open('img/tux_ecb.png', 'wb') as f:\n",
    "    f.write(ecb_ct)"
   ]
  },
  {
   "cell_type": "code",
   "execution_count": null,
   "metadata": {},
   "outputs": [],
   "source": []
  }
 ],
 "metadata": {
  "kernelspec": {
   "display_name": "Python 3",
   "language": "python",
   "name": "python3"
  },
  "language_info": {
   "codemirror_mode": {
    "name": "ipython",
    "version": 3
   },
   "file_extension": ".py",
   "mimetype": "text/x-python",
   "name": "python",
   "nbconvert_exporter": "python",
   "pygments_lexer": "ipython3",
   "version": "3.6.5"
  }
 },
 "nbformat": 4,
 "nbformat_minor": 2
}
